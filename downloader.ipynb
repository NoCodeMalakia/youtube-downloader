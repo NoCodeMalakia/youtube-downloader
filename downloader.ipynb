{
 "cells": [
  {
   "cell_type": "markdown",
   "metadata": {
    "id": "X8W4HlP8nwYx"
   },
   "source": [
    "# 🎵 1-Click YouTube Playlist to MP3  \n",
    "**⚡ No installs • 320kbps • Batch downloads**  \n",
    "\n",
    "💡 **How to use**:  \n",
    "1. Paste any YouTube playlist URL below  \n",
    "2. Click ▶️ \"Run all\" (or Runtime → Run all)  \n",
    "3. Find MP3s in 📁 sidebar under `/content/`  \n",
    "\n",
    "🚨 **Note**: For personal use only. Support creators!"
   ]
  },
  {
   "cell_type": "code",
   "execution_count": null,
   "metadata": {
    "id": "zJx5Hj1YoAZf"
   },
   "outputs": [],
   "source": [
    "# 🔊 Notification Setup\n",
    "from google.colab import output\n",
    "import time\n",
    "\n",
    "def notify():\n",
    "    output.eval_js('new Audio(\"https://upload.wikimedia.org/wikipedia/commons/0/05/Beep-09.ogg\").play()')\n",
    "\n",
    "# 🎬 Main Downloader\n",
    "print(\"⏳ Downloading... (you'll hear a beep when done)\")\n",
    "url = input(\"Paste YouTube playlist URL: \")\n",
    "!yt-dlp -x --audio-format mp3 --audio-quality 0 --output \"/content/%(title)s.%(ext)s\" --yes-playlist \"$url\" --print \"%(progress._percent_str)s\"\n",
    "notify()  # Plays sound when done"
   ]
  },
  {
   "cell_type": "markdown",
   "metadata": {
    "id": "8Y5Q7k7CoDd_"
   },
   "source": [
    "## 🎉 Download Complete!  \n",
    "🔔 *You should hear a notification sound.*  \n",
    "📁 **Check the left sidebar** → `/content/` for your MP3s.  \n",
    "\n",
    "⚠️ **Troubleshooting**:  \n",
    "- No sound? Click anywhere on the page first (browser security)  \n",
    "- Missing files? Refresh the 📁 sidebar (🔄 icon)"
   ]
  }
 ],
 "metadata": {
  "colab": {
   "provenance": []
  },
  "kernelspec": {
   "display_name": "Python 3",
   "name": "python3"
  }
 },
 "nbformat": 4,
 "nbformat_minor": 0
}
